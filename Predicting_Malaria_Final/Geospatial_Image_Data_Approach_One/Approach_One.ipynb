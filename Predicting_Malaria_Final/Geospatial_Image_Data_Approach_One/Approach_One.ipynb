{
 "cells": [
  {
   "cell_type": "markdown",
   "metadata": {},
   "source": [
    "# Predicting Malaria in Nigeria with Machine Learning - Approach 1: GeoSpatial Image Data"
   ]
  },
  {
   "cell_type": "markdown",
   "metadata": {},
   "source": [
    "## Machine Learning Project for Abt Associates through the Univeristy of Michigan"
   ]
  },
  {
   "cell_type": "markdown",
   "metadata": {},
   "source": [
    "### Contributors: Brian Liggio, Jessica Sickles, Prashant Toteja, Keely Meyers"
   ]
  },
  {
   "cell_type": "markdown",
   "metadata": {},
   "source": [
    "The overarching goal for this project was to create a model that would predict malaria outbreaks in Nigeria.  The data for this project consists of various spatial images from open data sources (Malaria Atlas Project and Terraclip).  These images were manually cropped, scaled, and transformed in order to be compatible with the machine learning model.  The data analysis portion of the project included preliminary data cleaning, transforming image data to a Pandas dataframe, and creating a basic prediction visualization based on various machine learning techniques.  These steps produced initial image based on the collected spatial data. (add more as the model becomes more robust and interactive features are added to the map)"
   ]
  },
  {
   "cell_type": "code",
   "execution_count": 1,
   "metadata": {},
   "outputs": [
    {
     "name": "stdout",
     "output_type": "stream",
     "text": [
      "Populating the interactive namespace from numpy and matplotlib\n"
     ]
    },
    {
     "name": "stderr",
     "output_type": "stream",
     "text": [
      "/Users/prashanttoteja/anaconda3/lib/python3.6/site-packages/IPython/core/magics/pylab.py:160: UserWarning: pylab import has clobbered these variables: ['plt']\n",
      "`%matplotlib` prevents importing * from pylab and numpy\n",
      "  \"\\n`%matplotlib` prevents importing * from pylab and numpy\"\n"
     ]
    }
   ],
   "source": [
    "import pandas as pd\n",
    "import numpy as np\n",
    "import matplotlib.pylab as plt\n",
    "import matplotlib.image as mpimg\n",
    "import numpy\n",
    "from PIL import Image\n",
    "from sklearn.pipeline import Pipeline\n",
    "from sklearn.decomposition import PCA\n",
    "from sklearn.ensemble import RandomForestClassifier\n",
    "#from sklearn.grid_search import GridSearchCV\n",
    "from sklearn.model_selection import learning_curve, GridSearchCV, train_test_split, KFold #new version of model_selection\n",
    "#from sklearn.cross_validation import train_test_split\n",
    "from sklearn.metrics import accuracy_score\n",
    "#from sklearn.cross_validation import KFold\n",
    "from sklearn.metrics import roc_auc_score\n",
    "from sklearn.metrics import confusion_matrix\n",
    "import statsmodels.formula.api as smf\n",
    "import statsmodels.api as sm\n",
    "\n",
    "\n",
    "#from gridsearch import get_results\n",
    "import time\n",
    "import itertools\n",
    "from sklearn.linear_model import Ridge\n",
    "%pylab inline\n",
    "\n",
    "import warnings\n",
    "warnings.filterwarnings('ignore')"
   ]
  },
  {
   "cell_type": "markdown",
   "metadata": {},
   "source": [
    "##### Here we define three different functions:\n",
    "\n",
    "**feature_to_array**: The input of the function is a raster file with dimentions (n pixels,m pixels), and the output is going to be an array of dimmensions (m*n,1). *Each pixel is going to have a unique identifier (index in the array). This index follows the formula *(i*n)+j where (i,j) is the position of the pixel in the image and n is the width of the image.\n",
    "\n",
    "**rgb2gray**: Converts an RGB image or colormap to grayscale.\n",
    "\n",
    "**read_pictures**: Used to read in the images."
   ]
  },
  {
   "cell_type": "code",
   "execution_count": 2,
   "metadata": {
    "collapsed": true
   },
   "outputs": [],
   "source": [
    "def feature_to_array(file_n): #Input is raster file with dimensions (n pixels, m pixels) and the output is an array of dimensions (m*n,1) -- Each pixel has a unique identifier\n",
    "    im = mpimg.imread(file_n)  \n",
    "    im_greyscale = rgb2gray(im)   \n",
    "    imarray = numpy.array(im_greyscale)\n",
    "    feature=[i for a in imarray for i in a]\n",
    "    return feature\n",
    "\n",
    "def rgb2gray(rgb):\n",
    "    return np.dot(rgb[...,:3], [0.299, 0.587, 0.114])   #Greyscale value dimensions\n",
    "\n",
    "def read_pictures(filename):   #Function to read the images in\n",
    "    file_name=filename\n",
    "    im = mpimg.imread(file_name)  \n",
    "    im_greyscale = rgb2gray(im)"
   ]
  },
  {
   "cell_type": "markdown",
   "metadata": {},
   "source": [
    "## Reading the Data"
   ]
  },
  {
   "cell_type": "markdown",
   "metadata": {},
   "source": [
    "We insert each image into our feature_to_array function and assign each output to a variable respresenting the data within the respective image. We chose to use \"endemicity\" as our Y variable. In our regression model, we define endemicity as the predicted percentage of malaria prevalence in a given area.  We have chosen 12 predictor variables to include in our model."
   ]
  },
  {
   "cell_type": "markdown",
   "metadata": {},
   "source": [
    "##### Predcitor Variables:\n",
    "\n",
    "resistance: Mean estimates of sickle cell haemoglobin allele frequency\n",
    "\n",
    "fever_proportion: Malaria-positive fevers as a proportion of all-cause fevers in 2015 in Nigeria\n",
    "\n",
    "mosquito_proportion: The spatial distribution of Plasmodium falciparum malaria endemicity in 2015 in Nigeria\n",
    "\n",
    "temp_suitability: The annual temperature suitability index for Plasmodium falciparum transmission which reflects the impact of daily temperature on vector survival \n",
    "\n",
    "proximity_to_urban: Modeled accessibility to high-density urban centers for 2015 in Nigeria (measured by travel time)\n",
    "\n",
    "urban: Modeled distribution of urban centers \n",
    "\n",
    "annual_mean_temp: Annual mean temperature \n",
    "\n",
    "cropland: Distribution of natural vegetation \n",
    "\n",
    "precipitation: Precipitation seasonality\n",
    "\n",
    "vegetation: Areas of primary vegetation \n",
    "\n",
    "annual_temp_range: Annual temperature range\n",
    "\n",
    "water_bodies: Locations of all water bodies "
   ]
  },
  {
   "cell_type": "code",
   "execution_count": 3,
   "metadata": {
    "collapsed": true
   },
   "outputs": [],
   "source": [
    "file_name = 'Malaria_resistance_sickle_cell.png'\n",
    "resistance = feature_to_array(file_name) \n",
    "\n",
    "file_name ='PfMalaria_fever_porportion_to_all_illness_2015.png'\n",
    "fever_proportion = feature_to_array(file_name) \n",
    "\n",
    "file_name = 'PfPR_2015_NGA_proportion_2_10.png'\n",
    "mosquito_proportion = feature_to_array(file_name) \n",
    "\n",
    "file_name = 'temp_suitability.png'\n",
    "temp_suitability = feature_to_array(file_name) \n",
    "\n",
    "file_name = 'Travel_time_to_urban_centers.png'\n",
    "proximity_to_urban = feature_to_array(file_name) \n",
    "\n",
    "file_name = 'Urban2012.png'\n",
    "urban = feature_to_array(file_name) \n",
    "\n",
    "file_name = 'USE_annual_mean_temp.png'\n",
    "annual_mean_temp = feature_to_array(file_name) \n",
    "\n",
    "file_name = 'USE_cropland.png'\n",
    "cropland = feature_to_array(file_name)\n",
    "\n",
    "file_name = 'USE_prec_seasonality_013.png'\n",
    "precipitation = feature_to_array(file_name)\n",
    "\n",
    "file_name = 'USE_primary_vegetation.png'\n",
    "vegetation = feature_to_array(file_name)\n",
    "\n",
    "file_name = 'USE_temp_annual_range_2015.png'\n",
    "annual_temp_range = feature_to_array(file_name)\n",
    "\n",
    "file_name = 'Water_bodies.png'\n",
    "water_bodies = feature_to_array(file_name)\n",
    "\n",
    "file_name = 'PF_parasite_endemicity.png'    #Y variable\n",
    "endemicity = feature_to_array(file_name) \n",
    "\n",
    "file_name = 'Land_coverage.png'     #In or outside Nigeria\n",
    "land_coverage = feature_to_array(file_name) "
   ]
  },
  {
   "cell_type": "code",
   "execution_count": 4,
   "metadata": {
    "collapsed": true
   },
   "outputs": [],
   "source": [
    "data = pd.DataFrame([resistance, fever_proportion, mosquito_proportion, temp_suitability, proximity_to_urban, urban, annual_mean_temp, cropland, precipitation, vegetation, annual_temp_range, water_bodies, endemicity]).T\n",
    "\n",
    "data.columns = ['Resistance','Fever_prop','Mosquito_prop', 'Temp_suitability','Proximity_to_urban','Urban','Annual_mean_temp','Cropland','Precipitation', 'Vegetation', 'Annual_temp_range', 'Water_bodies', 'Endemicity']\n"
   ]
  },
  {
   "cell_type": "markdown",
   "metadata": {},
   "source": [
    "## Machine Learning - Regressions"
   ]
  },
  {
   "cell_type": "code",
   "execution_count": 5,
   "metadata": {
    "collapsed": true
   },
   "outputs": [],
   "source": [
    "## Splitting into X and Y training/testing sets\n",
    "\n",
    "data = data.dropna()\n",
    "\n",
    "X = data[['Resistance', 'Fever_prop','Mosquito_prop','Temp_suitability', 'Proximity_to_urban', 'Urban', 'Annual_mean_temp', 'Cropland', 'Precipitation','Vegetation', 'Annual_temp_range', 'Water_bodies']]\n",
    "Y = data['Endemicity']\n",
    "\n",
    "X_train, X_test = train_test_split(X, test_size=0.2, random_state=21)\n",
    "Y_train, Y_test = train_test_split(Y, test_size=0.2, random_state=21)\n"
   ]
  },
  {
   "cell_type": "markdown",
   "metadata": {},
   "source": [
    "## Ordinary Least Squares Regression"
   ]
  },
  {
   "cell_type": "markdown",
   "metadata": {},
   "source": [
    "The purpose of this linear regression was use the predictor variables to identify areas of high or low malria risk. The model achieved an R-squared value of over 0.93, indicating that over 93% of the variability in the Y variable (endemicity) was explained by the model.  This indicated a significant and accurate model. The predictons were then mapped from an array back to an image to produce the static output seen below."
   ]
  },
  {
   "cell_type": "code",
   "execution_count": 6,
   "metadata": {},
   "outputs": [
    {
     "name": "stdout",
     "output_type": "stream",
     "text": [
      "                            OLS Regression Results                            \n",
      "==============================================================================\n",
      "Dep. Variable:             Endemicity   R-squared:                       0.932\n",
      "Model:                            OLS   Adj. R-squared:                  0.932\n",
      "Method:                 Least Squares   F-statistic:                 1.489e+05\n",
      "Date:                Fri, 19 Apr 2019   Prob (F-statistic):               0.00\n",
      "Time:                        20:53:10   Log-Likelihood:                 61883.\n",
      "No. Observations:              120432   AIC:                        -1.237e+05\n",
      "Df Residuals:                  120421   BIC:                        -1.236e+05\n",
      "Df Model:                          11                                         \n",
      "Covariance Type:            nonrobust                                         \n",
      "======================================================================================\n",
      "                         coef    std err          t      P>|t|      [0.025      0.975]\n",
      "--------------------------------------------------------------------------------------\n",
      "Resistance             0.8268      0.006    133.575      0.000       0.815       0.839\n",
      "Fever_prop             0.1972      0.004     54.673      0.000       0.190       0.204\n",
      "Mosquito_prop         -0.0794      0.004    -18.815      0.000      -0.088      -0.071\n",
      "Temp_suitability       0.5847      0.004    139.492      0.000       0.576       0.593\n",
      "Proximity_to_urban     0.1002      0.003     39.633      0.000       0.095       0.105\n",
      "Urban                 -0.1153      0.004    -32.825      0.000      -0.122      -0.108\n",
      "Annual_mean_temp      -0.2986      0.007    -44.640      0.000      -0.312      -0.285\n",
      "Cropland              -0.0480      0.002    -20.728      0.000      -0.053      -0.043\n",
      "Precipitation          1.3133      0.012    112.623      0.000       1.290       1.336\n",
      "Vegetation             0.0683      0.003     25.809      0.000       0.063       0.073\n",
      "Annual_temp_range     -0.8900      0.006   -137.542      0.000      -0.903      -0.877\n",
      "Water_bodies          -0.1153      0.004    -32.825      0.000      -0.122      -0.108\n",
      "==============================================================================\n",
      "Omnibus:                    28484.251   Durbin-Watson:                   0.181\n",
      "Prob(Omnibus):                  0.000   Jarque-Bera (JB):           476027.096\n",
      "Skew:                          -0.697   Prob(JB):                         0.00\n",
      "Kurtosis:                      12.639   Cond. No.                     1.20e+17\n",
      "==============================================================================\n",
      "\n",
      "Warnings:\n",
      "[1] Standard Errors assume that the covariance matrix of the errors is correctly specified.\n",
      "[2] The smallest eigenvalue is 5.24e-29. This might indicate that there are\n",
      "strong multicollinearity problems or that the design matrix is singular.\n"
     ]
    }
   ],
   "source": [
    "model = sm.OLS(Y, X, standardize=False).fit()   #fitting OLS to our data\n",
    "print(model.summary())\n",
    "data['Predictions_OLS_1'] = model.predict(X)    #using function to visualize model's fit"
   ]
  },
  {
   "cell_type": "code",
   "execution_count": 7,
   "metadata": {
    "collapsed": true
   },
   "outputs": [],
   "source": [
    "## Creating training/testing data sets w/ both X & Y\n",
    "\n",
    "data_train = pd.concat([X_train,Y_train],axis=1)\n",
    "data_test = pd.concat([X_test,Y_test],axis=1)"
   ]
  },
  {
   "cell_type": "code",
   "execution_count": 8,
   "metadata": {},
   "outputs": [],
   "source": [
    "## Evaluating Model\n",
    "\n",
    "#ols_mod_train = smf.ols('Endemicity ~ Resistance + Fever_prop + Temp_suitability + Proximity_to_urban + Urban + Annual_mean_temp + Cropland + Precipitation + Mosquito_prop + Vegetation + Annual_temp_range + Water_bodies', data = data_train).fit()\n",
    "#print (roc_auc_score(np.where(ols_mod_train.predict(data_test)>0.5,1,0), data_test['Endemicity']))\n"
   ]
  },
  {
   "cell_type": "code",
   "execution_count": 9,
   "metadata": {},
   "outputs": [],
   "source": [
    "#print (roc_auc_score(np.where(ols_mod_train.predict(data)>0.5,1,0),data['Endemicity']))"
   ]
  },
  {
   "cell_type": "code",
   "execution_count": 10,
   "metadata": {},
   "outputs": [
    {
     "data": {
      "text/plain": [
       "0    0.96583\n",
       "1    0.96583\n",
       "2    0.96583\n",
       "3    0.96583\n",
       "4    0.96583\n",
       "5    0.96583\n",
       "6    0.96583\n",
       "7    0.96583\n",
       "8    0.96583\n",
       "9    0.96583\n",
       "Name: Predictions_OLS_1, dtype: float64"
      ]
     },
     "execution_count": 10,
     "metadata": {},
     "output_type": "execute_result"
    }
   ],
   "source": [
    "data['Predictions_OLS_1'].head(10) #View of first 10 predictions as per the model"
   ]
  },
  {
   "cell_type": "code",
   "execution_count": 11,
   "metadata": {
    "collapsed": true
   },
   "outputs": [],
   "source": [
    "## Linking array to original position of pixels \n",
    "\n",
    "file_name='USE_annual_mean_temp.png'\n",
    "m=numpy.array(Image.open(file_name)).shape[0]\n",
    "n=numpy.array(Image.open(file_name)).shape[1]\n",
    "def indexes(m,n):    \n",
    "    index_2dim={}\n",
    "    for M in range(0,m*n):\n",
    "        index_2dim[M]={'i':int(M)//int(n), 'j':M-((int(M)//int(n))*n)}\n",
    "    return index_2dim\n",
    "original_index_dict=indexes(m,n)\n"
   ]
  },
  {
   "cell_type": "code",
   "execution_count": 12,
   "metadata": {
    "collapsed": true
   },
   "outputs": [],
   "source": [
    "matrix = np.zeros((m,n))\n",
    "for M in data.index:\n",
    "    i=original_index_dict[M]['i']\n",
    "    j=original_index_dict[M]['j']\n",
    "    matrix[i][j]=data.Predictions_OLS_1[M] \n",
    "m_l=matrix.tolist()"
   ]
  },
  {
   "cell_type": "code",
   "execution_count": 13,
   "metadata": {},
   "outputs": [
    {
     "data": {
      "image/png": "[encoded data removed]",
      "text/plain": [
       "<Figure size 792x576 with 2 Axes>"
      ]
     },
     "metadata": {
      "needs_background": "light"
     },
     "output_type": "display_data"
    }
   ],
   "source": [
    "## Creating plot of malaria outbreak \n",
    "\n",
    "fig, ax = subplots(figsize=(11, 8))\n",
    "plt.imshow(m_l,  interpolation='nearest', cmap='binary', extent=(0.5,8.5,0.5,8.5))\n",
    "plt.colorbar()\n",
    "plt.savefig('ols.png')"
   ]
  },
  {
   "cell_type": "markdown",
   "metadata": {},
   "source": [
    "## Random Forest Regressor"
   ]
  },
  {
   "cell_type": "markdown",
   "metadata": {},
   "source": [
    "The random forest model was implemented from sklearn and was ran with 1000 trees as an arbitrary start.  The model achieved a high fit score of 0.98.  The feature importance was gathered for each variable in the model and was used to create a datafram based on this metric.  This datafram was used to make predictions about areas of high and low risk for malaria in Nigeria, and display those prediction on another static map."
   ]
  },
  {
   "cell_type": "code",
   "execution_count": 14,
   "metadata": {
    "collapsed": true
   },
   "outputs": [],
   "source": [
    "from sklearn.ensemble import RandomForestRegressor"
   ]
  },
  {
   "cell_type": "code",
   "execution_count": 15,
   "metadata": {
    "collapsed": true
   },
   "outputs": [],
   "source": [
    "rf = RandomForestRegressor(n_estimators = 10, random_state = 5) #changed to 10 and 5 to run faster(originally 1,000 estimators and random state 42)"
   ]
  },
  {
   "cell_type": "code",
   "execution_count": 16,
   "metadata": {},
   "outputs": [
    {
     "data": {
      "text/plain": [
       "RandomForestRegressor(bootstrap=True, criterion='mse', max_depth=None,\n",
       "           max_features='auto', max_leaf_nodes=None,\n",
       "           min_impurity_decrease=0.0, min_impurity_split=None,\n",
       "           min_samples_leaf=1, min_samples_split=2,\n",
       "           min_weight_fraction_leaf=0.0, n_estimators=10, n_jobs=None,\n",
       "           oob_score=False, random_state=5, verbose=0, warm_start=False)"
      ]
     },
     "execution_count": 16,
     "metadata": {},
     "output_type": "execute_result"
    }
   ],
   "source": [
    "rf.fit(X, Y)"
   ]
  },
  {
   "cell_type": "code",
   "execution_count": 17,
   "metadata": {},
   "outputs": [
    {
     "data": {
      "text/plain": [
       "0.987307351477745"
      ]
     },
     "execution_count": 17,
     "metadata": {},
     "output_type": "execute_result"
    }
   ],
   "source": [
    "rf.score(X,Y)"
   ]
  },
  {
   "cell_type": "code",
   "execution_count": 18,
   "metadata": {},
   "outputs": [
    {
     "data": {
      "text/plain": [
       "array([6.21485980e-02, 1.41115863e-02, 1.58998959e-02, 8.41682707e-01,\n",
       "       1.88211899e-02, 1.59018298e-04, 5.80577379e-03, 3.31595803e-03,\n",
       "       1.62245086e-02, 5.95443520e-04, 2.10495884e-02, 1.85732760e-04])"
      ]
     },
     "execution_count": 18,
     "metadata": {},
     "output_type": "execute_result"
    }
   ],
   "source": [
    "rf.feature_importances_"
   ]
  },
  {
   "cell_type": "code",
   "execution_count": 19,
   "metadata": {},
   "outputs": [
    {
     "data": {
      "text/html": [
       "<div>\n",
       "<style scoped>\n",
       "    .dataframe tbody tr th:only-of-type {\n",
       "        vertical-align: middle;\n",
       "    }\n",
       "\n",
       "    .dataframe tbody tr th {\n",
       "        vertical-align: top;\n",
       "    }\n",
       "\n",
       "    .dataframe thead th {\n",
       "        text-align: right;\n",
       "    }\n",
       "</style>\n",
       "<table border=\"1\" class=\"dataframe\">\n",
       "  <thead>\n",
       "    <tr style=\"text-align: right;\">\n",
       "      <th></th>\n",
       "      <th>importance</th>\n",
       "    </tr>\n",
       "  </thead>\n",
       "  <tbody>\n",
       "    <tr>\n",
       "      <th>Temp_suitability</th>\n",
       "      <td>0.841683</td>\n",
       "    </tr>\n",
       "    <tr>\n",
       "      <th>Resistance</th>\n",
       "      <td>0.062149</td>\n",
       "    </tr>\n",
       "    <tr>\n",
       "      <th>Annual_temp_range</th>\n",
       "      <td>0.021050</td>\n",
       "    </tr>\n",
       "    <tr>\n",
       "      <th>Proximity_to_urban</th>\n",
       "      <td>0.018821</td>\n",
       "    </tr>\n",
       "    <tr>\n",
       "      <th>Precipitation</th>\n",
       "      <td>0.016225</td>\n",
       "    </tr>\n",
       "    <tr>\n",
       "      <th>Mosquito_prop</th>\n",
       "      <td>0.015900</td>\n",
       "    </tr>\n",
       "    <tr>\n",
       "      <th>Fever_prop</th>\n",
       "      <td>0.014112</td>\n",
       "    </tr>\n",
       "    <tr>\n",
       "      <th>Annual_mean_temp</th>\n",
       "      <td>0.005806</td>\n",
       "    </tr>\n",
       "    <tr>\n",
       "      <th>Cropland</th>\n",
       "      <td>0.003316</td>\n",
       "    </tr>\n",
       "    <tr>\n",
       "      <th>Vegetation</th>\n",
       "      <td>0.000595</td>\n",
       "    </tr>\n",
       "    <tr>\n",
       "      <th>Water_bodies</th>\n",
       "      <td>0.000186</td>\n",
       "    </tr>\n",
       "    <tr>\n",
       "      <th>Urban</th>\n",
       "      <td>0.000159</td>\n",
       "    </tr>\n",
       "  </tbody>\n",
       "</table>\n",
       "</div>"
      ],
      "text/plain": [
       "                    importance\n",
       "Temp_suitability      0.841683\n",
       "Resistance            0.062149\n",
       "Annual_temp_range     0.021050\n",
       "Proximity_to_urban    0.018821\n",
       "Precipitation         0.016225\n",
       "Mosquito_prop         0.015900\n",
       "Fever_prop            0.014112\n",
       "Annual_mean_temp      0.005806\n",
       "Cropland              0.003316\n",
       "Vegetation            0.000595\n",
       "Water_bodies          0.000186\n",
       "Urban                 0.000159"
      ]
     },
     "execution_count": 19,
     "metadata": {},
     "output_type": "execute_result"
    }
   ],
   "source": [
    "feature_importances = pd.DataFrame(rf.feature_importances_, index = X.columns, columns=['importance']).sort_values('importance', ascending=False)\n",
    "feature_importances\n"
   ]
  },
  {
   "cell_type": "code",
   "execution_count": 20,
   "metadata": {
    "collapsed": true
   },
   "outputs": [],
   "source": [
    "data['rf_predictions'] = rf.predict(X)"
   ]
  },
  {
   "cell_type": "code",
   "execution_count": 21,
   "metadata": {},
   "outputs": [
    {
     "data": {
      "text/plain": [
       "0    0.999998\n",
       "1    0.999998\n",
       "2    0.999998\n",
       "3    0.999998\n",
       "4    0.999998\n",
       "5    0.999998\n",
       "6    0.999998\n",
       "7    0.999998\n",
       "8    0.999998\n",
       "9    0.999998\n",
       "Name: rf_predictions, dtype: float64"
      ]
     },
     "execution_count": 21,
     "metadata": {},
     "output_type": "execute_result"
    }
   ],
   "source": [
    "data['rf_predictions'].head(10)"
   ]
  },
  {
   "cell_type": "code",
   "execution_count": 22,
   "metadata": {},
   "outputs": [
    {
     "name": "stdout",
     "output_type": "stream",
     "text": [
      "Mean Absolute Error: 0.01\n"
     ]
    }
   ],
   "source": [
    "errors = abs(data['rf_predictions'] - Y_test)\n",
    "print('Mean Absolute Error:', round(np.mean(errors), 2))"
   ]
  },
  {
   "cell_type": "code",
   "execution_count": 23,
   "metadata": {},
   "outputs": [
    {
     "name": "stdout",
     "output_type": "stream",
     "text": [
      "Accuracy: 94.61 %\n"
     ]
    }
   ],
   "source": [
    "## Calculating mean absolute percentage error (MAPE)\n",
    "\n",
    "mape = 100 * (errors / Y_test)\n",
    "accuracy = 100 - np.mean(mape)\n",
    "print('Accuracy:', round(accuracy, 2), \"%\")"
   ]
  },
  {
   "cell_type": "code",
   "execution_count": 24,
   "metadata": {
    "collapsed": true
   },
   "outputs": [],
   "source": [
    "## Linking array to original position of pixels \n",
    "\n",
    "file_name='USE_annual_mean_temp.png'\n",
    "m=numpy.array(Image.open(file_name)).shape[0]\n",
    "n=numpy.array(Image.open(file_name)).shape[1]\n",
    "def indexes(m,n):    \n",
    "    index_2dim={}\n",
    "    for M in range(0,m*n):\n",
    "        #print(M)\n",
    "        index_2dim[M]={'i':int(M)//int(n), 'j':M-((int(M)//int(n))*n)}\n",
    "    return index_2dim\n",
    "original_index_dict=indexes(m,n)"
   ]
  },
  {
   "cell_type": "code",
   "execution_count": 25,
   "metadata": {
    "collapsed": true
   },
   "outputs": [],
   "source": [
    "matrix = np.zeros((m,n))\n",
    "for M in data.index:\n",
    "    i=original_index_dict[M]['i']\n",
    "    j=original_index_dict[M]['j']\n",
    "    matrix[i][j]= data.rf_predictions[M] \n",
    "m_l=matrix.tolist()"
   ]
  },
  {
   "cell_type": "code",
   "execution_count": 26,
   "metadata": {},
   "outputs": [
    {
     "data": {
      "image/png": "[encoded data removed]",
      "text/plain": [
       "<Figure size 792x576 with 2 Axes>"
      ]
     },
     "metadata": {
      "needs_background": "light"
     },
     "output_type": "display_data"
    }
   ],
   "source": [
    "## Creating plot of malaria outbreak \n",
    "\n",
    "fig, ax = subplots(figsize=(11, 8))\n",
    "plt.imshow(m_l,  interpolation='nearest', cmap='binary', extent=(0.5,8.5,0.5,8.5))\n",
    "plt.colorbar()\n",
    "plt.savefig('rf.png')"
   ]
  },
  {
   "cell_type": "markdown",
   "metadata": {},
   "source": [
    "## TensorFlow Keras Neural Network"
   ]
  },
  {
   "cell_type": "markdown",
   "metadata": {},
   "source": [
    "Here, we are using a neural network from the keras package supported by TensorFlow. In reality, the relationship between our inputs and malaria outbreaks is probably non-linear and complex. Thus, this model is advantageous as it has the ability to learn these types of relationships. They are typically used in pattern recognition which is applicable here since we are interesting in using the surrounding neighborhoods to predict endemicity just how epidemics work in real life."
   ]
  },
  {
   "cell_type": "code",
   "execution_count": 27,
   "metadata": {},
   "outputs": [
    {
     "name": "stderr",
     "output_type": "stream",
     "text": [
      "Using TensorFlow backend.\n"
     ]
    }
   ],
   "source": [
    "import keras\n",
    "from keras.models import Sequential\n",
    "from keras.layers import Dense\n",
    "from keras.models import Model\n",
    "from keras.layers import Input\n",
    "from keras.layers import Dense, Activation,Conv2D,MaxPooling2D,Flatten,Dropout"
   ]
  },
  {
   "cell_type": "code",
   "execution_count": 28,
   "metadata": {},
   "outputs": [],
   "source": [
    "X = data[['Resistance', 'Fever_prop','Mosquito_prop','Temp_suitability', 'Proximity_to_urban', 'Urban', 'Annual_mean_temp', 'Cropland', 'Precipitation','Vegetation', 'Annual_temp_range', 'Water_bodies']]\n",
    "Y = data['Endemicity']\n",
    "\n",
    "X_train, X_test = train_test_split(X, test_size=0.2, random_state=21)  #splitting train and test\n",
    "Y_train, Y_test = train_test_split(Y, test_size=0.2, random_state=21)\n"
   ]
  },
  {
   "cell_type": "code",
   "execution_count": 29,
   "metadata": {},
   "outputs": [
    {
     "name": "stdout",
     "output_type": "stream",
     "text": [
      "WARNING:tensorflow:From /Users/prashanttoteja/anaconda3/lib/python3.6/site-packages/tensorflow/python/framework/op_def_library.py:263: colocate_with (from tensorflow.python.framework.ops) is deprecated and will be removed in a future version.\n",
      "Instructions for updating:\n",
      "Colocations handled automatically by placer.\n"
     ]
    }
   ],
   "source": [
    "model = Sequential() #implementation of a sequential model for testing purposes\n",
    "model.add(Dense(input_dim=12, output_dim=1, init='uniform', activation='linear'))  #adding one fully connected layer with linear activation\n"
   ]
  },
  {
   "cell_type": "code",
   "execution_count": 30,
   "metadata": {},
   "outputs": [],
   "source": [
    "digit_input = Input(shape=(28, 28,1)) \n",
    "x = Conv2D(64, (3, 3))(digit_input) #creating convolutional layers with 64 filters size 3x3\n",
    "x = Conv2D(64, (3, 3))(x)\n",
    "#x = MaxPooling2D((2, 2))(x)\n",
    "#out = Flatten()(x)"
   ]
  },
  {
   "cell_type": "code",
   "execution_count": 31,
   "metadata": {},
   "outputs": [
    {
     "name": "stdout",
     "output_type": "stream",
     "text": [
      "Model is initialized with weights w: -0.04, b: 0.00\n"
     ]
    }
   ],
   "source": [
    "#Assigning weights to the model\n",
    "\n",
    "weights = model.layers[0].get_weights()\n",
    "w_init = weights[0][0][0]\n",
    "b_init = weights[1][0]\n",
    "print('Model is initialized with weights w: %.2f, b: %.2f' % (w_init, b_init)) "
   ]
  },
  {
   "cell_type": "code",
   "execution_count": 32,
   "metadata": {},
   "outputs": [],
   "source": [
    "model.compile(optimizer='sgd', loss='mse')"
   ]
  },
  {
   "cell_type": "code",
   "execution_count": 33,
   "metadata": {},
   "outputs": [
    {
     "name": "stdout",
     "output_type": "stream",
     "text": [
      "WARNING:tensorflow:From /Users/prashanttoteja/anaconda3/lib/python3.6/site-packages/tensorflow/python/ops/math_ops.py:3066: to_int32 (from tensorflow.python.ops.math_ops) is deprecated and will be removed in a future version.\n",
      "Instructions for updating:\n",
      "Use tf.cast instead.\n",
      "Epoch 1/10\n",
      "96345/96345 [==============================] - 6s 57us/step - loss: 0.0332\n",
      "Epoch 2/10\n",
      "96345/96345 [==============================] - 5s 47us/step - loss: 0.0233\n",
      "Epoch 3/10\n",
      "96345/96345 [==============================] - 5s 50us/step - loss: 0.0228\n",
      "Epoch 4/10\n",
      "96345/96345 [==============================] - 4s 46us/step - loss: 0.0225\n",
      "Epoch 5/10\n",
      "96345/96345 [==============================] - 5s 47us/step - loss: 0.0222\n",
      "Epoch 6/10\n",
      "96345/96345 [==============================] - 5s 47us/step - loss: 0.0220\n",
      "Epoch 7/10\n",
      "96345/96345 [==============================] - 5s 47us/step - loss: 0.0219\n",
      "Epoch 8/10\n",
      "96345/96345 [==============================] - 5s 51us/step - loss: 0.0218\n",
      "Epoch 9/10\n",
      "96345/96345 [==============================] - 5s 48us/step - loss: 0.0216\n",
      "Epoch 10/10\n",
      "96345/96345 [==============================] - 5s 50us/step - loss: 0.0216\n"
     ]
    },
    {
     "data": {
      "text/plain": [
       "<keras.callbacks.History at 0x1c582b9ac8>"
      ]
     },
     "execution_count": 33,
     "metadata": {},
     "output_type": "execute_result"
    }
   ],
   "source": [
    "model.fit(X_train, Y_train, nb_epoch=10, verbose=1)  #fitting model"
   ]
  },
  {
   "cell_type": "code",
   "execution_count": 34,
   "metadata": {},
   "outputs": [],
   "source": [
    "ynew = model.predict(X_test)  #prediction on our test set"
   ]
  },
  {
   "cell_type": "code",
   "execution_count": 35,
   "metadata": {},
   "outputs": [
    {
     "data": {
      "text/plain": [
       "0.08689161330034946"
      ]
     },
     "execution_count": 35,
     "metadata": {},
     "output_type": "execute_result"
    }
   ],
   "source": [
    "from sklearn.metrics import mean_absolute_error\n",
    "mean_absolute_error(Y_test, ynew)  #calculating error between predicitons and actual"
   ]
  },
  {
   "cell_type": "markdown",
   "metadata": {},
   "source": [
    "# Malaria Treated as a Classification Problem"
   ]
  },
  {
   "cell_type": "markdown",
   "metadata": {},
   "source": [
    "## Logistic Regression"
   ]
  },
  {
   "cell_type": "markdown",
   "metadata": {},
   "source": [
    "Another approach that was used was to treat the prediction of malaria risk as a classification problem, in which an \"at risk\" area is defined as one with a risk greater than 0.5, and a \"non-risk\" areas is one with a risk less than 0.5.  This model produced an Area Under the Curve AUC score of 0.98, a high score. A perfect model will have an AUC score of 1 while a completely ineffective model will score 0.5."
   ]
  },
  {
   "cell_type": "code",
   "execution_count": 36,
   "metadata": {},
   "outputs": [],
   "source": [
    "#logit_mod = smf.logit('Endemicity ~ Resistance + Fever_prop + Mosquito_prop + Temp_suitability + Proximity_to_urban + Urban + Annual_mean_temp + Cropland + Precipitation + Vegetation + Annual_temp_range + Water_bodies', data = data).fit()\n",
    "#print ('\\n',logit_mod.summary())"
   ]
  },
  {
   "cell_type": "code",
   "execution_count": 37,
   "metadata": {},
   "outputs": [],
   "source": [
    "#print (logit_mod.get_margeff().summary())"
   ]
  },
  {
   "cell_type": "code",
   "execution_count": 38,
   "metadata": {},
   "outputs": [],
   "source": [
    "## Prediction\n",
    "\n",
    "#data['PredictionLogit'] = logit_mod.predict(data)\n",
    "#data.loc[data['PredictionLogit'] >= .5, 'PredictionLogit'] = 1\n",
    "#data.loc[data['PredictionLogit'] < .5, 'PredictionLogit'] = 0\n",
    "# print(sorted(data['PredictionLogit']))"
   ]
  },
  {
   "cell_type": "code",
   "execution_count": 39,
   "metadata": {
    "collapsed": true
   },
   "outputs": [],
   "source": [
    "## Creating training/testing data sets w/ both X & Y\n",
    "\n",
    "#data_train = pd.concat([X_train,Y_train],axis=1)\n",
    "#data_test = pd.concat([X_test,Y_test],axis=1)"
   ]
  },
  {
   "cell_type": "code",
   "execution_count": 40,
   "metadata": {},
   "outputs": [],
   "source": [
    "## Evaluating Model \n",
    "\n",
    "#logit_mod_train = smf.logit('Endemicity ~ Resistance + Fever_prop + Temp_suitability + Proximity_to_urban + Urban + Annual_mean_temp + Cropland + Precipitation + Mosquito_prop + Vegetation + Annual_temp_range + Water_bodies', data = data_train).fit()\n",
    "#print (roc_auc_score(np.where(logit_mod_train.predict(data_test)>0.5,1,0), data_test['Endemicity']))"
   ]
  },
  {
   "cell_type": "code",
   "execution_count": 41,
   "metadata": {},
   "outputs": [],
   "source": [
    "#print (roc_auc_score(np.where(logit_mod_train.predict(data)>0.5,1,0),data['Endemicity']))"
   ]
  },
  {
   "cell_type": "code",
   "execution_count": 42,
   "metadata": {
    "collapsed": true
   },
   "outputs": [],
   "source": [
    "## Linking array to original position of pixels \n",
    "\n",
    "#file_name='USE_annual_mean_temp.png'\n",
    "#m=numpy.array(Image.open(file_name)).shape[0]\n",
    "#n=numpy.array(Image.open(file_name)).shape[1]\n",
    "#def indexes(m,n):    \n",
    " #   index_2dim={}\n",
    "  #  for M in range(0,m*n):\n",
    "   #     index_2dim[M]={'i':int(M)//int(n), 'j':M-((int(M)//int(n))*n)}\n",
    "    #return index_2dim\n",
    "#original_index_dict=indexes(m,n)"
   ]
  },
  {
   "cell_type": "code",
   "execution_count": 43,
   "metadata": {
    "collapsed": true
   },
   "outputs": [],
   "source": [
    "## Creating labels to plot \n",
    "\n",
    "#matrix = np.zeros((m,n))\n",
    "#for M in data.index:\n",
    "    #i=original_index_dict[M]['i']\n",
    "    #j=original_index_dict[M]['j']\n",
    "    #matrix[i][j]=data.PredictionLogit[M] \n",
    "#m_l=matrix.tolist()\n",
    "\n"
   ]
  },
  {
   "cell_type": "code",
   "execution_count": 44,
   "metadata": {},
   "outputs": [
    {
     "data": {
      "text/plain": [
       "\"fig, ax = subplots(figsize=(10, 8))\\nplt.imshow(m_l, interpolation='nearest', cmap='Blues', extent=(0.5,10.5,0.5,10.5))\\nplt.colorbar()\\nplt.savefig('logit.png')\""
      ]
     },
     "execution_count": 44,
     "metadata": {},
     "output_type": "execute_result"
    }
   ],
   "source": [
    "## Creating plot of malaria outbreak \n",
    "\n",
    "'''fig, ax = subplots(figsize=(10, 8))\n",
    "plt.imshow(m_l, interpolation='nearest', cmap='Blues', extent=(0.5,10.5,0.5,10.5))\n",
    "plt.colorbar()\n",
    "plt.savefig('logit.png')'''"
   ]
  },
  {
   "cell_type": "markdown",
   "metadata": {},
   "source": [
    "## Conditional Random Fields - A Discrimitive Approach"
   ]
  },
  {
   "cell_type": "markdown",
   "metadata": {},
   "source": [
    "The GraphCRF is another model that can be useful in predicting malaria endemicity. It utilizes the surrounding areas or \"neighboring nodes\" (pairwise models) as factors or weights of consideration, which mimics the reality of disease epidemics. While neural networks might work well with larger amounts of data, we can expect the CRF to do a better job with generalizations. This approach was still under construction at the time of hand-off. We have been exploring the structure of our input data and have been working to format it correctly for the model fitting. "
   ]
  },
  {
   "cell_type": "code",
   "execution_count": 45,
   "metadata": {},
   "outputs": [],
   "source": [
    "%matplotlib inline\n",
    "import matplotlib.pyplot as plt\n",
    "\n",
    "import sklearn\n",
    "import scipy.stats\n",
    "from sklearn.metrics import make_scorer\n",
    "#from sklearn.cross_validation import cross_val_score\n",
    "#from sklearn.grid_search import RandomizedSearchCV\n",
    "from sklearn.model_selection import cross_val_score, RandomizedSearchCV\n",
    "\n",
    "import sklearn_crfsuite\n",
    "from sklearn_crfsuite import scorers\n",
    "from sklearn_crfsuite import metrics"
   ]
  },
  {
   "cell_type": "code",
   "execution_count": 46,
   "metadata": {},
   "outputs": [
    {
     "data": {
      "text/html": [
       "<div>\n",
       "<style scoped>\n",
       "    .dataframe tbody tr th:only-of-type {\n",
       "        vertical-align: middle;\n",
       "    }\n",
       "\n",
       "    .dataframe tbody tr th {\n",
       "        vertical-align: top;\n",
       "    }\n",
       "\n",
       "    .dataframe thead th {\n",
       "        text-align: right;\n",
       "    }\n",
       "</style>\n",
       "<table border=\"1\" class=\"dataframe\">\n",
       "  <thead>\n",
       "    <tr style=\"text-align: right;\">\n",
       "      <th></th>\n",
       "      <th>Resistance</th>\n",
       "      <th>Fever_prop</th>\n",
       "      <th>Mosquito_prop</th>\n",
       "      <th>Temp_suitability</th>\n",
       "      <th>Proximity_to_urban</th>\n",
       "      <th>Urban</th>\n",
       "      <th>Annual_mean_temp</th>\n",
       "      <th>Cropland</th>\n",
       "      <th>Precipitation</th>\n",
       "      <th>Vegetation</th>\n",
       "      <th>Annual_temp_range</th>\n",
       "      <th>Water_bodies</th>\n",
       "    </tr>\n",
       "  </thead>\n",
       "  <tbody>\n",
       "    <tr>\n",
       "      <th>0</th>\n",
       "      <td>1.0</td>\n",
       "      <td>1.0</td>\n",
       "      <td>1.0</td>\n",
       "      <td>1.0</td>\n",
       "      <td>1.0</td>\n",
       "      <td>1.0</td>\n",
       "      <td>1.0</td>\n",
       "      <td>0.023529</td>\n",
       "      <td>0.533333</td>\n",
       "      <td>0.003922</td>\n",
       "      <td>0.937255</td>\n",
       "      <td>1.0</td>\n",
       "    </tr>\n",
       "    <tr>\n",
       "      <th>1</th>\n",
       "      <td>1.0</td>\n",
       "      <td>1.0</td>\n",
       "      <td>1.0</td>\n",
       "      <td>1.0</td>\n",
       "      <td>1.0</td>\n",
       "      <td>1.0</td>\n",
       "      <td>1.0</td>\n",
       "      <td>0.023529</td>\n",
       "      <td>0.533333</td>\n",
       "      <td>0.003922</td>\n",
       "      <td>0.937255</td>\n",
       "      <td>1.0</td>\n",
       "    </tr>\n",
       "    <tr>\n",
       "      <th>2</th>\n",
       "      <td>1.0</td>\n",
       "      <td>1.0</td>\n",
       "      <td>1.0</td>\n",
       "      <td>1.0</td>\n",
       "      <td>1.0</td>\n",
       "      <td>1.0</td>\n",
       "      <td>1.0</td>\n",
       "      <td>0.023529</td>\n",
       "      <td>0.533333</td>\n",
       "      <td>0.003922</td>\n",
       "      <td>0.937255</td>\n",
       "      <td>1.0</td>\n",
       "    </tr>\n",
       "    <tr>\n",
       "      <th>3</th>\n",
       "      <td>1.0</td>\n",
       "      <td>1.0</td>\n",
       "      <td>1.0</td>\n",
       "      <td>1.0</td>\n",
       "      <td>1.0</td>\n",
       "      <td>1.0</td>\n",
       "      <td>1.0</td>\n",
       "      <td>0.023529</td>\n",
       "      <td>0.533333</td>\n",
       "      <td>0.003922</td>\n",
       "      <td>0.937255</td>\n",
       "      <td>1.0</td>\n",
       "    </tr>\n",
       "    <tr>\n",
       "      <th>4</th>\n",
       "      <td>1.0</td>\n",
       "      <td>1.0</td>\n",
       "      <td>1.0</td>\n",
       "      <td>1.0</td>\n",
       "      <td>1.0</td>\n",
       "      <td>1.0</td>\n",
       "      <td>1.0</td>\n",
       "      <td>0.023529</td>\n",
       "      <td>0.533333</td>\n",
       "      <td>0.003922</td>\n",
       "      <td>0.937255</td>\n",
       "      <td>1.0</td>\n",
       "    </tr>\n",
       "    <tr>\n",
       "      <th>5</th>\n",
       "      <td>1.0</td>\n",
       "      <td>1.0</td>\n",
       "      <td>1.0</td>\n",
       "      <td>1.0</td>\n",
       "      <td>1.0</td>\n",
       "      <td>1.0</td>\n",
       "      <td>1.0</td>\n",
       "      <td>0.023529</td>\n",
       "      <td>0.533333</td>\n",
       "      <td>0.003922</td>\n",
       "      <td>0.937255</td>\n",
       "      <td>1.0</td>\n",
       "    </tr>\n",
       "    <tr>\n",
       "      <th>6</th>\n",
       "      <td>1.0</td>\n",
       "      <td>1.0</td>\n",
       "      <td>1.0</td>\n",
       "      <td>1.0</td>\n",
       "      <td>1.0</td>\n",
       "      <td>1.0</td>\n",
       "      <td>1.0</td>\n",
       "      <td>0.023529</td>\n",
       "      <td>0.533333</td>\n",
       "      <td>0.003922</td>\n",
       "      <td>0.937255</td>\n",
       "      <td>1.0</td>\n",
       "    </tr>\n",
       "    <tr>\n",
       "      <th>7</th>\n",
       "      <td>1.0</td>\n",
       "      <td>1.0</td>\n",
       "      <td>1.0</td>\n",
       "      <td>1.0</td>\n",
       "      <td>1.0</td>\n",
       "      <td>1.0</td>\n",
       "      <td>1.0</td>\n",
       "      <td>0.023529</td>\n",
       "      <td>0.533333</td>\n",
       "      <td>0.003922</td>\n",
       "      <td>0.937255</td>\n",
       "      <td>1.0</td>\n",
       "    </tr>\n",
       "    <tr>\n",
       "      <th>8</th>\n",
       "      <td>1.0</td>\n",
       "      <td>1.0</td>\n",
       "      <td>1.0</td>\n",
       "      <td>1.0</td>\n",
       "      <td>1.0</td>\n",
       "      <td>1.0</td>\n",
       "      <td>1.0</td>\n",
       "      <td>0.023529</td>\n",
       "      <td>0.533333</td>\n",
       "      <td>0.003922</td>\n",
       "      <td>0.937255</td>\n",
       "      <td>1.0</td>\n",
       "    </tr>\n",
       "    <tr>\n",
       "      <th>9</th>\n",
       "      <td>1.0</td>\n",
       "      <td>1.0</td>\n",
       "      <td>1.0</td>\n",
       "      <td>1.0</td>\n",
       "      <td>1.0</td>\n",
       "      <td>1.0</td>\n",
       "      <td>1.0</td>\n",
       "      <td>0.023529</td>\n",
       "      <td>0.533333</td>\n",
       "      <td>0.003922</td>\n",
       "      <td>0.937255</td>\n",
       "      <td>1.0</td>\n",
       "    </tr>\n",
       "  </tbody>\n",
       "</table>\n",
       "</div>"
      ],
      "text/plain": [
       "   Resistance  Fever_prop  Mosquito_prop  Temp_suitability  \\\n",
       "0         1.0         1.0            1.0               1.0   \n",
       "1         1.0         1.0            1.0               1.0   \n",
       "2         1.0         1.0            1.0               1.0   \n",
       "3         1.0         1.0            1.0               1.0   \n",
       "4         1.0         1.0            1.0               1.0   \n",
       "5         1.0         1.0            1.0               1.0   \n",
       "6         1.0         1.0            1.0               1.0   \n",
       "7         1.0         1.0            1.0               1.0   \n",
       "8         1.0         1.0            1.0               1.0   \n",
       "9         1.0         1.0            1.0               1.0   \n",
       "\n",
       "   Proximity_to_urban  Urban  Annual_mean_temp  Cropland  Precipitation  \\\n",
       "0                 1.0    1.0               1.0  0.023529       0.533333   \n",
       "1                 1.0    1.0               1.0  0.023529       0.533333   \n",
       "2                 1.0    1.0               1.0  0.023529       0.533333   \n",
       "3                 1.0    1.0               1.0  0.023529       0.533333   \n",
       "4                 1.0    1.0               1.0  0.023529       0.533333   \n",
       "5                 1.0    1.0               1.0  0.023529       0.533333   \n",
       "6                 1.0    1.0               1.0  0.023529       0.533333   \n",
       "7                 1.0    1.0               1.0  0.023529       0.533333   \n",
       "8                 1.0    1.0               1.0  0.023529       0.533333   \n",
       "9                 1.0    1.0               1.0  0.023529       0.533333   \n",
       "\n",
       "   Vegetation  Annual_temp_range  Water_bodies  \n",
       "0    0.003922           0.937255           1.0  \n",
       "1    0.003922           0.937255           1.0  \n",
       "2    0.003922           0.937255           1.0  \n",
       "3    0.003922           0.937255           1.0  \n",
       "4    0.003922           0.937255           1.0  \n",
       "5    0.003922           0.937255           1.0  \n",
       "6    0.003922           0.937255           1.0  \n",
       "7    0.003922           0.937255           1.0  \n",
       "8    0.003922           0.937255           1.0  \n",
       "9    0.003922           0.937255           1.0  "
      ]
     },
     "execution_count": 46,
     "metadata": {},
     "output_type": "execute_result"
    }
   ],
   "source": [
    "X.head(10)"
   ]
  },
  {
   "cell_type": "code",
   "execution_count": 47,
   "metadata": {},
   "outputs": [
    {
     "data": {
      "text/plain": [
       "(120432, 12)"
      ]
     },
     "execution_count": 47,
     "metadata": {},
     "output_type": "execute_result"
    }
   ],
   "source": [
    "X.shape"
   ]
  },
  {
   "cell_type": "code",
   "execution_count": 48,
   "metadata": {},
   "outputs": [
    {
     "data": {
      "text/plain": [
       "12"
      ]
     },
     "execution_count": 48,
     "metadata": {},
     "output_type": "execute_result"
    }
   ],
   "source": [
    "n_nodes = X.shape[1]\n",
    "n_nodes"
   ]
  },
  {
   "cell_type": "code",
   "execution_count": 49,
   "metadata": {},
   "outputs": [
    {
     "data": {
      "text/plain": [
       "array([[ 0,  1,  2,  3,  4,  5,  6,  7,  8,  9, 10],\n",
       "       [ 1,  2,  3,  4,  5,  6,  7,  8,  9, 10, 11]])"
      ]
     },
     "execution_count": 49,
     "metadata": {},
     "output_type": "execute_result"
    }
   ],
   "source": [
    "edges_0 = np.vstack([np.arange(n_nodes - 1), np.arange(1, n_nodes)])\n",
    "edges_0"
   ]
  },
  {
   "cell_type": "code",
   "execution_count": 50,
   "metadata": {},
   "outputs": [
    {
     "data": {
      "text/plain": [
       "(array([1., 1., 1., ..., 1., 1., 1.]),\n",
       " array([[ 0,  1,  2,  3,  4,  5,  6,  7,  8,  9, 10],\n",
       "        [ 1,  2,  3,  4,  5,  6,  7,  8,  9, 10, 11]]))"
      ]
     },
     "execution_count": 50,
     "metadata": {},
     "output_type": "execute_result"
    }
   ],
   "source": [
    "x = (np.asarray(X.iloc[:,0]), edges_0)   ##list of a list for first requires - exploring our the structure of our data\n",
    "x"
   ]
  },
  {
   "cell_type": "code",
   "execution_count": 51,
   "metadata": {},
   "outputs": [],
   "source": [
    "f_t = X"
   ]
  },
  {
   "cell_type": "code",
   "execution_count": 52,
   "metadata": {},
   "outputs": [],
   "source": [
    "#Constructing tuple of nodes for features and edges between the nodes\n",
    "\n",
    "crf_xtrain = []\n",
    "cols = []\n",
    "for i in range(0, f_t.shape[1]):\n",
    "    for j in range(0, f_t.shape[1]):  #iterating by columns in dataframe\n",
    "        x = np.asarray(f_t.iloc[:,j])\n",
    "        cols.append(x)\n",
    "        if (len(cols) == 12):\n",
    "            crf_xtrain.append(((np.asarray(cols)),edges_0))  \n",
    "            cols = []"
   ]
  },
  {
   "cell_type": "code",
   "execution_count": 53,
   "metadata": {},
   "outputs": [
    {
     "data": {
      "text/plain": [
       "array([1., 1., 1., ..., 1., 1., 1.])"
      ]
     },
     "execution_count": 53,
     "metadata": {},
     "output_type": "execute_result"
    }
   ],
   "source": [
    "len(crf_xtrain[0][0][0])  #make table with 1 row instead of a list \n",
    "crf_xtrain[0][0][0]"
   ]
  },
  {
   "cell_type": "code",
   "execution_count": 54,
   "metadata": {},
   "outputs": [
    {
     "data": {
      "text/plain": [
       "numpy.float64"
      ]
     },
     "execution_count": 54,
     "metadata": {},
     "output_type": "execute_result"
    }
   ],
   "source": [
    "crf_ytrain = Y\n",
    "type(crf_ytrain[0])"
   ]
  },
  {
   "cell_type": "code",
   "execution_count": 55,
   "metadata": {},
   "outputs": [],
   "source": [
    "for idx in range(len(crf_ytrain)):   #forcing values to ones and zeros\n",
    "    if (crf_ytrain[idx] >= .5):  \n",
    "        crf_ytrain[idx] = 1\n",
    "    else:\n",
    "        crf_ytrain[idx] = 0\n"
   ]
  },
  {
   "cell_type": "code",
   "execution_count": 56,
   "metadata": {},
   "outputs": [
    {
     "data": {
      "text/plain": [
       "[0, 1]"
      ]
     },
     "execution_count": 56,
     "metadata": {},
     "output_type": "execute_result"
    }
   ],
   "source": [
    "crf_ytrain = crf_ytrain.astype(int)\n",
    "u = list(set(crf_ytrain))\n",
    "u"
   ]
  },
  {
   "cell_type": "code",
   "execution_count": 57,
   "metadata": {},
   "outputs": [
    {
     "data": {
      "text/plain": [
       "array([1, 1, 1, ..., 1, 1, 1])"
      ]
     },
     "execution_count": 57,
     "metadata": {},
     "output_type": "execute_result"
    }
   ],
   "source": [
    "crf_ytrain = np.asarray(crf_ytrain)\n",
    "crf_ytrain"
   ]
  },
  {
   "cell_type": "code",
   "execution_count": 58,
   "metadata": {},
   "outputs": [],
   "source": [
    "from pystruct.models import GraphCRF\n",
    "from pystruct.learners import FrankWolfeSSVM"
   ]
  },
  {
   "cell_type": "code",
   "execution_count": 60,
   "metadata": {},
   "outputs": [],
   "source": [
    "model = GraphCRF(directed = True, inference_method = \"max-product\")\n",
    "ssvm = FrankWolfeSSVM(model=model, C=.1, max_iter=10)\n",
    "#ssvm.fit(crf_xtrain, crf_ytrain)    #fitting model to our training data "
   ]
  },
  {
   "cell_type": "markdown",
   "metadata": {},
   "source": [
    "## Approach One Conclusion:"
   ]
  },
  {
   "cell_type": "markdown",
   "metadata": {},
   "source": [
    "After attempting a few different models, it appears that OLS works the best given its high fit and accurate output. However, we would recommend building upon the CRF further to see the interactivity between nodes. Given that the geospatial image data that we used was not accurately linked to geocoordinates, we will see if we can use survey data from the MAP Atlas Project and API data in Approach Two to replicate these results and better link them to specific locations within Nigeria."
   ]
  }
 ],
 "metadata": {
  "kernelspec": {
   "display_name": "Python 3",
   "language": "python",
   "name": "python3"
  },
  "language_info": {
   "codemirror_mode": {
    "name": "ipython",
    "version": 3
   },
   "file_extension": ".py",
   "mimetype": "text/x-python",
   "name": "python",
   "nbconvert_exporter": "python",
   "pygments_lexer": "ipython3",
   "version": "3.6.8"
  }
 },
 "nbformat": 4,
 "nbformat_minor": 2
}
